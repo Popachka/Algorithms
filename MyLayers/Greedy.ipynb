{
 "cells": [
  {
   "cell_type": "markdown",
   "metadata": {},
   "source": [
    "<center><h1>Жадные алгоритмы</center></h2>\n",
    "\n",
    "- Жадный алгоритм - алгоритм, заключающийся в принятии локально оптимальных решений на каждом этапе, допуская, что конечно решение также окажется оптимальным"
   ]
  },
  {
   "cell_type": "markdown",
   "metadata": {},
   "source": [
    "План:\n",
    "- Читка теории\n",
    "- Выбрать 6-8 задач. Написать условия и увидеть решения.\n",
    "- Написать свой вывод"
   ]
  },
  {
   "cell_type": "markdown",
   "metadata": {},
   "source": [
    "### Теория:\n",
    "1. Общего критерия, когда стоит применять жадных алгоритм нету. Пишут, что если структура задачи задается каким-то матроидом, то тогда жадный алгоритм как дети в школу заходит. Обычно отдают предпочтение методу оптимизации - динамического программирования\n",
    "2. Примеры задач, которые можно решить жадиной:\n",
    "    1. Алгоритм Дейкстры\n",
    "    2. Алгоритм Крускала\n",
    "    3. Алгоритм Прима\n",
    "    4. Размен монет\n",
    "    5. Кодирование Хаффмана\n",
    "<br>\n",
    "\n",
    "https://www.geeksforgeeks.org/greedy-algorithms/ - тут куча примеров применения<br>\n",
    "https://cs.mipt.ru/wp/wp-content/uploads/2018/09/greedyalgs.pdf - презентация<br>"
   ]
  },
  {
   "cell_type": "code",
   "execution_count": 9,
   "metadata": {},
   "outputs": [
    {
     "name": "stdout",
     "output_type": "stream",
     "text": [
      "[2000, 1000, 500, 100, 100, 50, 10, 10, 10, 7, 2]\n",
      "4\n"
     ]
    }
   ],
   "source": [
    "# Размен монет\n",
    "a = [1, 2, 5, 7, 10, 50, 100, 500, 1000, 2000, 5000]\n",
    "\n",
    "def soluiton(s):\n",
    "    coins = []\n",
    "    for x in reversed(a):\n",
    "        coins += [x] * (s // x)\n",
    "        s %= x\n",
    "    return coins\n",
    "print(soluiton(3789))\n",
    "\n",
    "# Размен монет в ДП\n",
    "\n",
    "def min_coins(coins, S):\n",
    "    INF = float('inf') # макс значение суммы, которое не может быть достигнуто\n",
    "\n",
    "    dp = [INF] * (S + 1)\n",
    "    dp[0] = 0\n",
    "\n",
    "    for i in range(1, S + 1):\n",
    "        for coin in coins:\n",
    "            if i >= coin:\n",
    "                dp[i] = min(dp[i], dp[i - coin] + 1)\n",
    "\n",
    "    return dp[S] if dp[S] != INF else -1\n",
    "\n",
    "coins = [1, 5, 7]\n",
    "S = 24\n",
    "print(min_coins(coins, S)) "
   ]
  },
  {
   "cell_type": "code",
   "execution_count": 11,
   "metadata": {},
   "outputs": [
    {
     "name": "stdout",
     "output_type": "stream",
     "text": [
      "220\n"
     ]
    }
   ],
   "source": [
    "# Рюкзак с делимыми предметами.\n",
    "\n",
    "def knapSack(W, wt, val, n):\n",
    "    if n == 0 or W == 0:\n",
    "        return 0\n",
    "    if (wt[n-1] > W):\n",
    "        return knapSack(W, wt, val, n-1)\n",
    "    else:\n",
    "        return max(val[n-1] + knapSack(W - wt[n-1], wt, val, n - 1),\n",
    "                   knapSack(W, wt, val, n - 1))\n",
    "profit = [60, 100, 120] \n",
    "weight = [10, 20, 30, 70] \n",
    "W = 50\n",
    "n = len(profit) \n",
    "print(knapSack(W, weight, profit, n))"
   ]
  },
  {
   "cell_type": "code",
   "execution_count": 13,
   "metadata": {},
   "outputs": [
    {
     "data": {
      "text/plain": [
       "[[1, 2], [3, 4], [5, 7], [8, 9]]"
      ]
     },
     "execution_count": 13,
     "metadata": {},
     "output_type": "execute_result"
    }
   ],
   "source": [
    "#Выбор заявок\n",
    "def MaxActivities(arr, n):\n",
    "    selected = []\n",
    "    arr.sort(key=lambda x: x[1])\n",
    "\n",
    "    i = 0\n",
    "    selected.append(arr[i])\n",
    "\n",
    "    for j in range(1, n):\n",
    "        if arr[j][0] >= arr[i][1]:\n",
    "            selected.append(arr[j])\n",
    "            i = j\n",
    "    return selected\n",
    "\n",
    "Activity = [[5, 9], [1, 2], [3, 4], [0, 6], [5, 7], [8, 9]] \n",
    "selected = MaxActivities(Activity, len(Activity))\n",
    "selected"
   ]
  },
  {
   "cell_type": "code",
   "execution_count": 4,
   "metadata": {},
   "outputs": [
    {
     "data": {
      "text/plain": [
       "[0, 1, 2, 0, 3]"
      ]
     },
     "execution_count": 4,
     "metadata": {},
     "output_type": "execute_result"
    }
   ],
   "source": [
    "# Раскраска графа\n",
    "\n",
    "def addEdge(adj, v, w):\n",
    "     \n",
    "    adj[v].append(w)\n",
    "     \n",
    "    # Note: the graph is undirected\n",
    "    adj[w].append(v)  \n",
    "    return adj\n",
    "def greedyColoring(adj, V):\n",
    "    result = [-1] * V  # Массив для хранения цветов вершин, -1 означает, что вершина еще не окрашена\n",
    "\n",
    "    result[0] = 0  # Окрашиваем первую вершину в цвет 0\n",
    "\n",
    "    available = [False] * V  # Массив для отслеживания доступных цветов\n",
    "\n",
    "    for u in range(1, V):  # Проходим по всем вершинам, начиная со второй\n",
    "        for i in adj[u]:  # Для каждой смежной вершины\n",
    "            if result[i] != -1:  # Если вершина уже окрашена\n",
    "                available[result[i]] = True  # Делаем цвет недоступным\n",
    "\n",
    "        cr = 0\n",
    "        while cr < V:  # Находим первый доступный цвет\n",
    "            if available[cr] == False:\n",
    "                break\n",
    "            cr += 1\n",
    "\n",
    "        result[u] = cr  # Назначаем найденный цвет вершине `u`\n",
    "\n",
    "        for i in adj[u]:  # Возвращаем доступность цветов в начальное состояние\n",
    "            if result[i] != -1:\n",
    "                available[result[i]] = False\n",
    "\n",
    "    return result  # Возвращаем массив с назначенными цветами для каждой вершины\n",
    "\n",
    "g1 = [[] for i in range(5)]\n",
    "g1 = addEdge(g1, 0, 1)\n",
    "g1 = addEdge(g1, 0, 2)\n",
    "g1 = addEdge(g1, 1, 2)\n",
    "g1 = addEdge(g1, 1, 3)\n",
    "g1 = addEdge(g1, 2, 3)\n",
    "g1 = addEdge(g1, 3, 4)\n",
    "greedyColoring(g1, 5)\n",
    "\n",
    "g2 = [[] for i in range(5)]\n",
    "g2 = addEdge(g2, 0, 1)\n",
    "g2 = addEdge(g2, 0, 2)\n",
    "g2 = addEdge(g2, 1, 2)\n",
    "g2 = addEdge(g2, 1, 4)\n",
    "g2 = addEdge(g2, 2, 4)\n",
    "g2 = addEdge(g2, 4, 3)\n",
    "greedyColoring(g2, 5)\n",
    " "
   ]
  },
  {
   "cell_type": "code",
   "execution_count": null,
   "metadata": {},
   "outputs": [],
   "source": []
  }
 ],
 "metadata": {
  "kernelspec": {
   "display_name": "myvenv",
   "language": "python",
   "name": "python3"
  },
  "language_info": {
   "codemirror_mode": {
    "name": "ipython",
    "version": 3
   },
   "file_extension": ".py",
   "mimetype": "text/x-python",
   "name": "python",
   "nbconvert_exporter": "python",
   "pygments_lexer": "ipython3",
   "version": "3.12.2"
  }
 },
 "nbformat": 4,
 "nbformat_minor": 2
}
