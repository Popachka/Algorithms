{
 "cells": [
  {
   "cell_type": "markdown",
   "metadata": {},
   "source": [
    "<center><h1>Базовые алгоритмы</center></h2>\n",
    "\n"
   ]
  },
  {
   "cell_type": "code",
   "execution_count": null,
   "metadata": {},
   "outputs": [],
   "source": [
    "{\n",
    "    'id': 1,\n",
    "    \"name\": \"Suverenny Coin 2023\",\n",
    "    \"description\": \"Описание монеты 2023 года\",\n",
    "    \"image_url\": \"Afganistan342213.jpg\"\n",
    "}\n"
   ]
  }
 ],
 "metadata": {
  "language_info": {
   "name": "python"
  }
 },
 "nbformat": 4,
 "nbformat_minor": 2
}
