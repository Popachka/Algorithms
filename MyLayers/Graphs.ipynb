{
 "cells": [
  {
   "cell_type": "markdown",
   "metadata": {},
   "source": [
    "# <center>Конспект</center>\n",
    "## <center> Введение в графы. </center>"
   ]
  },
  {
   "cell_type": "markdown",
   "metadata": {},
   "source": [
    "### Представление графа - список смежности"
   ]
  },
  {
   "cell_type": "code",
   "execution_count": 123,
   "metadata": {},
   "outputs": [
    {
     "name": "stdout",
     "output_type": "stream",
     "text": [
      "testcase 1\n",
      "0 -> 1\n",
      "1 -> 2\n",
      "2 -> 0\n",
      "testcase 2\n",
      "0 -> 1\n",
      "1 -> 2 3\n",
      "2 -> 3\n",
      "3 -> 0\n"
     ]
    }
   ],
   "source": [
    "from collections import defaultdict\n",
    "def adjacency_list_dict(V, edges):\n",
    "    adjacency_list = defaultdict(list)\n",
    "    for edge in edges:\n",
    "        v1, v2 = edge\n",
    "        adjacency_list[v1].append(v2)\n",
    "    for v, neighbors in adjacency_list.items():\n",
    "        print(f\"{v} -> {' '.join(map(str, neighbors))}\")\n",
    "print('testcase 1')\n",
    "V1 = 3\n",
    "edges1 = [[0, 1], [1, 2], [2, 0]]\n",
    "adjacency_list_dict(V1, edges1)\n",
    "\n",
    "print('testcase 2')\n",
    "V2 = 4\n",
    "edges2 = [[0, 1], [1, 2], [1, 3], [2, 3], [3, 0]]\n",
    "adjacency_list_dict(V2, edges2)"
   ]
  },
  {
   "cell_type": "markdown",
   "metadata": {},
   "source": [
    "#### Различные алгоритмы для работы с графами и деревьями\n",
    "1. DFS\n",
    "2. BFS\n",
    "3. Transpose\n",
    "4. DFS Paths\n",
    "5. BFS Paths\n",
    "6. Detecting Cycles in different graphs\n",
    "7. Dijkstra's shortest path algorithm"
   ]
  },
  {
   "cell_type": "code",
   "execution_count": 124,
   "metadata": {},
   "outputs": [],
   "source": [
    "graph = {'A': ['B', 'C'],\n",
    "         'B': ['A', 'D', 'E'],\n",
    "         'C': ['A', 'F'],\n",
    "         'D': ['B'],\n",
    "         'E': ['B', 'F'],\n",
    "         'F': ['C', 'E']}"
   ]
  },
  {
   "cell_type": "code",
   "execution_count": 125,
   "metadata": {},
   "outputs": [
    {
     "name": "stdout",
     "output_type": "stream",
     "text": [
      "['A', 'C', 'F', 'E', 'B', 'D']\n",
      "['A', 'C', 'F', 'E', 'B', 'D']\n"
     ]
    }
   ],
   "source": [
    "# DFS\n",
    "\n",
    "def dfs(graph, start):\n",
    "    visited, stack = [], [start]\n",
    "    while stack:\n",
    "        vertex = stack.pop()\n",
    "        if vertex not in visited:\n",
    "            visited.append(vertex)\n",
    "            stack.extend(set(graph[vertex]) - set(visited))\n",
    "    return visited\n",
    "print(dfs(graph, 'A'))\n",
    "\n",
    "def iteractive_dfs(graph, start, path = None):\n",
    "    if path is None:\n",
    "        path = []\n",
    "    q = [start]\n",
    "    while q:\n",
    "        v = q.pop()\n",
    "        if v not in path:\n",
    "            path = path + [v]\n",
    "            q += graph[v]\n",
    "    return path\n",
    "print(iteractive_dfs(graph, 'A'))"
   ]
  },
  {
   "cell_type": "code",
   "execution_count": 126,
   "metadata": {},
   "outputs": [
    {
     "name": "stdout",
     "output_type": "stream",
     "text": [
      "[['A', 'C'], ['A', 'B', 'E', 'F', 'C']]\n"
     ]
    }
   ],
   "source": [
    "# DFS PATHS - поиск пути между двумя вершинами\n",
    "\n",
    "def dfs_path(graphs, start, goal):\n",
    "    stack = [(start, [start])]\n",
    "    while stack:\n",
    "        (vertex, path) = stack.pop()\n",
    "        for next in set(graph[vertex]) - set(path):\n",
    "            if next == goal:\n",
    "                yield path + [next]\n",
    "            else:\n",
    "                stack.append((next, path + [next]))\n",
    "print(list(dfs_path(graph, 'A', 'C')))"
   ]
  },
  {
   "cell_type": "code",
   "execution_count": 127,
   "metadata": {},
   "outputs": [
    {
     "name": "stdout",
     "output_type": "stream",
     "text": [
      "['A', 'B', 'C', 'D', 'E', 'F']\n"
     ]
    }
   ],
   "source": [
    "# BFS\n",
    "from queue import deque\n",
    "\n",
    "def bfs(graph, start):\n",
    "    visited, queue = [], deque([start])\n",
    "    while queue:\n",
    "        vertex = queue.pop()\n",
    "        if vertex not in visited:\n",
    "            visited.append(vertex)\n",
    "            queue.extendleft(set(graph[vertex]) - set(visited))\n",
    "    return visited\n",
    "print(bfs(graph, 'A'))"
   ]
  },
  {
   "cell_type": "code",
   "execution_count": 128,
   "metadata": {},
   "outputs": [
    {
     "name": "stdout",
     "output_type": "stream",
     "text": [
      "[['A', 'C', 'F'], ['A', 'B', 'E', 'F']]\n"
     ]
    }
   ],
   "source": [
    "# BFS PATHS - поиск пути между двумя вершинами\n",
    "\n",
    "def bfs_paths(graph, start, goal):\n",
    "    queue = deque([(start, [start])])\n",
    "    while queue:\n",
    "        (vertex, path) = queue.pop()\n",
    "        for next in set(graph[vertex]) - set(path):\n",
    "            if next == goal:\n",
    "                yield path + [next]\n",
    "            else:\n",
    "                queue.appendleft((next, path+[next]))\n",
    "\n",
    "print(list(bfs_paths(graph, 'A', 'F')))"
   ]
  },
  {
   "cell_type": "code",
   "execution_count": 129,
   "metadata": {},
   "outputs": [
    {
     "name": "stdout",
     "output_type": "stream",
     "text": [
      "0 --> 1 4 3 \n",
      "1 --> \n",
      "2 --> 0 \n",
      "3 --> 2 \n",
      "4 --> 1 3 \n",
      "---------------\n",
      "0 --> 2 \n",
      "1 --> 0 4 \n",
      "2 --> 3 \n",
      "3 --> 0 4 \n",
      "4 --> 0 \n"
     ]
    }
   ],
   "source": [
    "# Transpose graph\n",
    "\n",
    "def addEdge(adj, src, dest):\n",
    "    adj[src].append(dest)\n",
    " \n",
    "# function to print adjacency list \n",
    "# of a graph \n",
    "def displayGraph(adj, v):\n",
    "    for i in range(v):\n",
    "        print(i, \"--> \", end = \"\")\n",
    "        for j in range(len(adj[i])):\n",
    "            print(adj[i][j], end = \" \") \n",
    "        print()\n",
    "\n",
    "def transposeGraph(adj, transpose, v):\n",
    "    for i in range(v):\n",
    "        for j in range(len(adj[i])):\n",
    "            addEdge(transpose, adj[i][j], i)\n",
    "v = 5\n",
    "adj = [[] for i in range(v)] \n",
    "\n",
    "addEdge(adj, 0, 1) \n",
    "addEdge(adj, 0, 4) \n",
    "addEdge(adj, 0, 3) \n",
    "addEdge(adj, 2, 0) \n",
    "addEdge(adj, 3, 2) \n",
    "addEdge(adj, 4, 1) \n",
    "addEdge(adj, 4, 3) \n",
    "\n",
    "transpose = [[]for i in range(v)]\n",
    "transposeGraph(adj, transpose, v) \n",
    "\n",
    "displayGraph(adj, v)\n",
    "print('---------------')\n",
    "displayGraph(transpose, v)"
   ]
  },
  {
   "cell_type": "markdown",
   "metadata": {},
   "source": [
    "##### Еще одна реализация графа"
   ]
  },
  {
   "cell_type": "code",
   "execution_count": 130,
   "metadata": {},
   "outputs": [
    {
     "name": "stdout",
     "output_type": "stream",
     "text": [
      "Graph contains cycle\n"
     ]
    }
   ],
   "source": [
    "# Cycle detected\n",
    "class Graph():\n",
    "    def __init__(self, vertices) -> None:\n",
    "        self.graph = defaultdict(list)\n",
    "        self.V = vertices\n",
    "    def addEdge(self, u, v):\n",
    "        self.graph[u].append(v)\n",
    "    def isCyclicUtil(self, v, visited, recStack):\n",
    "        visited[v] = True\n",
    "        recStack[v] = True\n",
    "\n",
    "        for neighbour in self.graph[v]:\n",
    "            if visited[neighbour] == False:\n",
    "                if self.isCyclicUtil(neighbour, visited, recStack) == True:\n",
    "                    return True\n",
    "            elif recStack[neighbour] == True:\n",
    "                return True\n",
    "        recStack[v] = False\n",
    "        return False\n",
    "    def isCyclic(self):\n",
    "        visited = [False] * (self.V + 1)\n",
    "        recStack = [False] * (self.V + 1)\n",
    "        for node in range(self.V):\n",
    "            if visited[node] == False:\n",
    "                if self.isCyclicUtil(node, visited, recStack) == True:\n",
    "                    return True\n",
    "            return False\n",
    "        \n",
    "if __name__ == '__main__':\n",
    "    g = Graph(4)\n",
    "    g.addEdge(0, 1)\n",
    "    g.addEdge(0, 2)\n",
    "    g.addEdge(1, 2)\n",
    "    g.addEdge(2, 0)\n",
    "    g.addEdge(2, 3)\n",
    "    g.addEdge(3, 3)\n",
    " \n",
    "    if g.isCyclic() == 1:\n",
    "        print(\"Graph contains cycle\")\n",
    "    else:\n",
    "        print(\"Graph doesn't contain cycle\")"
   ]
  },
  {
   "cell_type": "markdown",
   "metadata": {},
   "source": [
    "### Отработаю логику сам"
   ]
  },
  {
   "cell_type": "code",
   "execution_count": 131,
   "metadata": {},
   "outputs": [],
   "source": [
    "my_graph = {\n",
    "    0: [1, 2],\n",
    "    1: [4, 2, 2, 2],\n",
    "    2: [3],\n",
    "    4: [5],\n",
    "    3: [],\n",
    "    5: []\n",
    "}"
   ]
  },
  {
   "cell_type": "markdown",
   "metadata": {},
   "source": [
    "#### BFS + bfs path"
   ]
  },
  {
   "cell_type": "code",
   "execution_count": 132,
   "metadata": {},
   "outputs": [
    {
     "name": "stdout",
     "output_type": "stream",
     "text": [
      "[0, 1, 2, 4, 3, 5]\n",
      "[[0, 1, 4]]\n"
     ]
    }
   ],
   "source": [
    "# BFS + bfs path\n",
    "def my_bfs(graph, start):\n",
    "    marked = []\n",
    "    queue = deque([start])\n",
    "    while queue:\n",
    "        vertex = queue.pop()\n",
    "        if vertex not in marked:\n",
    "            marked.append(vertex)\n",
    "            queue.extendleft(set(graph[vertex]) - set(marked))\n",
    "    return marked\n",
    "print(my_bfs(my_graph, 0))\n",
    "\n",
    "def my_bfs_path(graph, start, goal):\n",
    "    queue = deque([(start, [start])]) # vertex, path\n",
    "    \n",
    "    while queue:\n",
    "        vertex, path = queue.pop() # [1,2,3] он возьмет 1 или 3?\n",
    "        for next in set((graph[vertex])):\n",
    "            if next == goal:\n",
    "                yield path + [next] # yield будет возвращать нам нужный ответ, когда выполняется условие.\n",
    "            else:\n",
    "                queue.appendleft((next, path + [next]))\n",
    "print(list(my_bfs_path(my_graph,0,4)))"
   ]
  },
  {
   "cell_type": "markdown",
   "metadata": {},
   "source": [
    "#### DFS + DFS path + DFS iterative"
   ]
  },
  {
   "cell_type": "code",
   "execution_count": 133,
   "metadata": {},
   "outputs": [
    {
     "name": "stdout",
     "output_type": "stream",
     "text": [
      "[0, 2, 3, 1, 4, 5]\n",
      "[[0, 1, 4]]\n",
      "[3, 0, 2, 1, 4, 5]\n"
     ]
    }
   ],
   "source": [
    "# DFS + DFS path + DFS iterative\n",
    "\n",
    "def my_dfs(graph, start):\n",
    "    marked = []\n",
    "    stack = [start]\n",
    "    while len(stack) > 0:\n",
    "        vertex = stack.pop()\n",
    "        if vertex not in marked:\n",
    "            marked.append(vertex)\n",
    "            stack.extend(set(graph[vertex]) - set(marked))\n",
    "    return marked\n",
    "print(my_dfs(my_graph, 0))\n",
    "\n",
    "def my_dfs_path(graph, start, goal):\n",
    "    stack = [(start, [start])]\n",
    "    while len(stack) > 0:\n",
    "        vertex, path = stack.pop()\n",
    "        for next in set(graph[vertex]):\n",
    "            if next == goal:\n",
    "                yield path + [next]\n",
    "            else:\n",
    "                stack.append((next, path + [next]))\n",
    "print(list(my_dfs_path(my_graph,0,4)))\n",
    "\n",
    "def my_dfs_iterative(graph, start, path = None):\n",
    "    if path is None:\n",
    "        path = []\n",
    "    stack = [start]\n",
    "    while len(stack) > 0:\n",
    "        v = stack.pop()\n",
    "        if v not in path:\n",
    "            path += [v]\n",
    "            stack.extend(set(graph[v]))\n",
    "    return path\n",
    "print(my_dfs_iterative(my_graph, 0, [3]))\n"
   ]
  },
  {
   "cell_type": "markdown",
   "metadata": {},
   "source": [
    "#### Stack VS Deque"
   ]
  },
  {
   "cell_type": "markdown",
   "metadata": {},
   "source": [
    "**deque** - структура данных, которая представляет собой двунаправленную очередь. То есть, можно добавлять и удалять элементы в начало или конец списка и делать это достаточно эффективно. <br>\n",
    "**stack** - структура данных, которая работает по принципу \"первый вошел, первый вышел\". <br>\n",
    "***\n",
    "Таким образом, основное различие между ними это в способе доступе к элементам добавления и удаления."
   ]
  },
  {
   "cell_type": "markdown",
   "metadata": {},
   "source": [
    "## Выводы:\n",
    "1. BFS и DFS различаются лишь в структуре данных, которая хранит соседей. Если это стэк, то это поиск в глубину, если это очередь, то в ширину.\n",
    "2. Поиск пути между вершинами реализуется с запоминанием прошлого пути относящиеся к вершине. То есть, мы не храним глобальный пройденный путь, нам это не нужно, мы его итеративно находим."
   ]
  },
  {
   "cell_type": "markdown",
   "metadata": {},
   "source": [
    "***"
   ]
  },
  {
   "cell_type": "markdown",
   "metadata": {},
   "source": [
    "## Второй заход\n",
    "- Изучим действия алгоритма Дейкстры.\n",
    "- Возьмем 5 случайных задач по каждой из темы: BFS,DFS. Решим, сделаем общий вывод и интуицию"
   ]
  },
  {
   "cell_type": "markdown",
   "metadata": {},
   "source": [
    "#### Алгоритм Дейкстры\n",
    "- Это алгоритм поиска пути. Решает задачу поиска кратчайшего пути между двумя точками в некотором пространстве. Пространство обычно представляется в виде графа. Вершины это точки или места, а ребра это веса или дороги. Веса обычно это цена или расстояние. Целью алгоритма является нахождение кратчайшего или экономичного пути от нач. вершины до конечной.\n",
    "- Принцип:\n",
    "    1. Алгоритм начинается с установки нач. вершины. Он работает по принципы greedy алгоритма, что означает, что на каждом шаге он стремится минимизировать текущую общую стоимость\n",
    "    2. Инициализируем два множества:\n",
    "        - Marked - обработанные вершины(сначала пустое)\n",
    "        - Graph - все вершины графа\n",
    "    3. Каждой вершине присвается вес, который представляет минимальную известную стоимость пути от начальной вершины до данной. Для нач. вершины = 0, для остальных ∞\n",
    "    4. На каждом шаге алгоритм выбирает вершину, из непосещенного множества с наименьшим весом, перемещает эту вершину в marked и обновляет веса всех соседей выбранной вершины. Вес соседа обновляется, если через выбранную вершину можно добраться до этого соседа с меньшей стоимостью\n",
    "    5. Процесс продолжается, пока не будут посещены все вершины или пока не найдем путь до конечной( если она задана)"
   ]
  },
  {
   "cell_type": "code",
   "execution_count": 134,
   "metadata": {},
   "outputs": [],
   "source": [
    "graph = {\n",
    "    'A': {'B': 1, 'C': 3},\n",
    "    'B': {'A': 1, 'C': 2},\n",
    "    'C': {'A': 3, 'B': 2}\n",
    "}"
   ]
  },
  {
   "cell_type": "code",
   "execution_count": 135,
   "metadata": {},
   "outputs": [
    {
     "name": "stdout",
     "output_type": "stream",
     "text": [
      "{'A': 0, 'B': 1, 'C': 3}\n"
     ]
    }
   ],
   "source": [
    "# Алгоримт Дейкстры\n",
    "import heapq \n",
    "\n",
    "def dijkstra(graph, start):\n",
    "    distances =  {vertex: float('inf') for vertex in graph} # создаем объект, который будет обновлять расстояние\n",
    "    \n",
    "    # Инизиализация базы\n",
    "    distances[start] = 0 \n",
    "    queue = [(0, start)]\n",
    "\n",
    "    while queue:\n",
    "        cur_dist, cur_vertex = heapq.heappop(queue)\n",
    "\n",
    "        # Обрабатываем вершину только с наим. расстоянием\n",
    "        if cur_dist > distances[cur_vertex]:\n",
    "            continue\n",
    "\n",
    "        for neighbor, weight in graph[cur_vertex].items():\n",
    "            distance = cur_dist + weight\n",
    "\n",
    "            if distance < distances[neighbor]:\n",
    "                distances[neighbor] = distance\n",
    "                heapq.heappush(queue, (distance, neighbor))\n",
    "    return distances\n",
    "\n",
    "print(dijkstra(graph, 'A'))"
   ]
  },
  {
   "cell_type": "markdown",
   "metadata": {},
   "source": [
    "#### <center>5 задач на BFS+DFS</center>"
   ]
  },
  {
   "cell_type": "markdown",
   "metadata": {},
   "source": [
    "133. **Clone Graph** - medium\n",
    "- https://leetcode.com/problems/clone-graph/description/?envType=problem-list-v2&envId=mnaj3wi7\n",
    "- Просто BFS or DFS"
   ]
  },
  {
   "cell_type": "code",
   "execution_count": 136,
   "metadata": {},
   "outputs": [
    {
     "data": {
      "text/plain": [
       "{'A': {'B': 1, 'C': 3}, 'B': {'A': 1, 'C': 2}, 'C': {'A': 3, 'B': 2}}"
      ]
     },
     "execution_count": 136,
     "metadata": {},
     "output_type": "execute_result"
    }
   ],
   "source": [
    "graph"
   ]
  },
  {
   "cell_type": "code",
   "execution_count": 137,
   "metadata": {},
   "outputs": [
    {
     "name": "stdout",
     "output_type": "stream",
     "text": [
      "bfs:  {'A': {'B': 1, 'C': 3}, 'B': {'A': 1, 'C': 2}, 'C': {'A': 3, 'B': 2}}\n",
      "dfs:  {'A': {'B': 1, 'C': 3}, 'B': {'A': 1, 'C': 2}, 'C': {'A': 3, 'B': 2}}\n"
     ]
    }
   ],
   "source": [
    "def bfs_clone(graph):\n",
    "    if not graph: return graph\n",
    "\n",
    "    q = deque([('A', {'B': 1, 'C': 3})])\n",
    "    clones = {'A': {}}\n",
    "\n",
    "    while q:\n",
    "        cur = q.popleft()\n",
    "        cur_clone = clones[cur[0]]\n",
    "\n",
    "        for nei, weight in cur[1].items():\n",
    "            if nei not in clones:\n",
    "                clones[nei] = {}\n",
    "                q.append((nei, graph[nei]))\n",
    "            cur_clone[nei] = weight\n",
    "    return clones\n",
    "\n",
    "print('bfs: ', bfs_clone(graph))\n",
    "\n",
    "def dfs_clone(graph):\n",
    "    if not graph: return graph\n",
    "\n",
    "    stack = [('A', {'B': 1, 'C': 3})]\n",
    "    clones = {'A': {}}\n",
    "\n",
    "    while len(stack) > 0:\n",
    "        cur = stack.pop()\n",
    "        cur_clone = clones[cur[0]]\n",
    "\n",
    "        for nei, weight in cur[1].items():\n",
    "            if nei not in clones:\n",
    "                clones[nei] = {}\n",
    "                stack.append((nei, graph[nei]))\n",
    "            cur_clone[nei] = weight\n",
    "    return clones\n",
    "print('dfs: ', dfs_clone(graph))\n"
   ]
  },
  {
   "cell_type": "markdown",
   "metadata": {},
   "source": [
    "207. **Course Schedule** - medium\n",
    "- https://leetcode.com/problems/course-schedule/description/?envType=problem-list-v2&envId=mnaj3wi7\n",
    "- BFS, topological sort"
   ]
  },
  {
   "cell_type": "code",
   "execution_count": 138,
   "metadata": {},
   "outputs": [
    {
     "name": "stdout",
     "output_type": "stream",
     "text": [
      "Можно завершить все курсы\n"
     ]
    }
   ],
   "source": [
    "numCourses = 5\n",
    "prerequisites = [[1,4],[2,4],[3,1],[3,2]]\n",
    "\n",
    "graph = defaultdict(list)\n",
    "in_degree = [0] * numCourses\n",
    "\n",
    "for to_course, need_course in prerequisites:\n",
    "    graph[need_course].append(to_course)\n",
    "    in_degree[to_course] += 1\n",
    "\n",
    "q = deque([i for i in range(numCourses) if in_degree[i] == 0])\n",
    "count = 0\n",
    "\n",
    "while q:\n",
    "    course = q.popleft()\n",
    "    count += 1\n",
    "    \n",
    "    for nei in graph[course]:\n",
    "        in_degree[nei] -= 1\n",
    "        if in_degree[nei] == 0:\n",
    "            q.append(nei)\n",
    "            \n",
    "if count == numCourses:\n",
    "    print('Можно завершить все курсы')\n",
    "else:\n",
    "    print('Нельзя завершить все курсы')"
   ]
  },
  {
   "cell_type": "markdown",
   "metadata": {},
   "source": [
    "310. **Minimum Height Trees** - medium\n",
    "- https://leetcode.com/problems/minimum-height-trees/description/?envType=problem-list-v2&envId=mnaj3wi7\n",
    "- Идея с удалением листьев"
   ]
  },
  {
   "cell_type": "code",
   "execution_count": 139,
   "metadata": {},
   "outputs": [],
   "source": [
    "n = 6\n",
    "edges = [[3,0],[3,1],[3,2],[3,4],[5,4]]"
   ]
  },
  {
   "cell_type": "code",
   "execution_count": 140,
   "metadata": {},
   "outputs": [
    {
     "name": "stdout",
     "output_type": "stream",
     "text": [
      "[3, 4]\n"
     ]
    }
   ],
   "source": [
    "# TLE\n",
    "\n",
    "def bfs(graph, root):\n",
    "    marked = set()\n",
    "    q = deque([(root, 0)])\n",
    "    max_height = 0\n",
    "\n",
    "    while q:\n",
    "        vertex, depth = q.popleft()\n",
    "\n",
    "        if vertex in marked:\n",
    "            continue\n",
    "        marked.add(vertex)\n",
    "\n",
    "        max_height = max(max_height, depth)\n",
    "\n",
    "        for nei in graph[vertex]:\n",
    "            if nei not in marked:\n",
    "                q.append((nei, depth + 1))\n",
    "    return max_height\n",
    "\n",
    "graph = defaultdict(list)\n",
    "\n",
    "for v1, v2 in edges:\n",
    "    graph[v1].append(v2)\n",
    "    graph[v2].append(v1)\n",
    "\n",
    "min_height_arr = []\n",
    "min_height = float('inf')\n",
    "for i in range(n):\n",
    "    height = bfs(graph, i)      \n",
    "\n",
    "    if height < min_height:\n",
    "        min_height = height\n",
    "        min_height_arr = [i]\n",
    "    elif height == min_height:\n",
    "        min_height_arr.append(i)\n",
    "\n",
    "print(min_height_arr)"
   ]
  },
  {
   "cell_type": "code",
   "execution_count": 141,
   "metadata": {},
   "outputs": [
    {
     "name": "stdout",
     "output_type": "stream",
     "text": [
      "[3, 4]\n"
     ]
    }
   ],
   "source": [
    "# O(n) - otimal solution\n",
    "\n",
    "if n == 1:\n",
    "    print([0])\n",
    "else:\n",
    "    graph = defaultdict(list)\n",
    "    for v1,v2 in edges:\n",
    "        graph[v1].append(v2)\n",
    "        graph[v2].append(v1)\n",
    "    \n",
    "    leaves = [i for i in range(n) if len(graph[i]) == 1]\n",
    "\n",
    "    remaining_nodes = n\n",
    "\n",
    "    while remaining_nodes > 2:\n",
    "        remaining_nodes -= len(leaves)\n",
    "        new_leaves = []\n",
    "        \n",
    "        for leaf in leaves:\n",
    "            nei = graph[leaf].pop() # т.к у листьев один сосед\n",
    "            graph[nei].remove(leaf)\n",
    "\n",
    "            if len(graph[nei]) == 1:\n",
    "                new_leaves.append(nei)\n",
    "\n",
    "            leaves = new_leaves\n",
    "    print(leaves)\n"
   ]
  },
  {
   "cell_type": "markdown",
   "metadata": {},
   "source": [
    "684. **Redundant Connection** - medium\n",
    "- https://leetcode.com/problems/redundant-connection/description/?envType=problem-list-v2&envId=mnaj3wi7\n",
    "- Union Find"
   ]
  },
  {
   "cell_type": "markdown",
   "metadata": {},
   "source": [
    "**Сначала надо понять: что за алгоритм Union-find?**\n",
    "\n",
    "Задача: Создать быструю структуру, которая поддерживает сле. операции:\n",
    "1. MakeSet(X) - внести в структуру новый элемент X, создать для него множество размера 1 из самого себя\n",
    "2. Find(X) - возвратить идентифкатор множества, которому принадлежит элемент X. В качесте идентификатора будем выбирать один элемент из того множества.\n",
    "3. Unite(X,Y) - объединить два множества, в которых лежат элементы X и Y, в одно новое.\n",
    "![img](https://habrastorage.org/storage/6cf7f9c4/e6848578/0bf0505b/5d3ded44.png)\n",
    "\n",
    "Хранить структуру данных будм в виде леса, то есть будем иметь систему непересекающихся деревьев. Все элементы одного множества лежат в одном соответствующем дереве, представитель дерева - его корень, слияние множеств, суть просто объединение двух деревьев в одно.\n",
    "\n"
   ]
  },
  {
   "cell_type": "code",
   "execution_count": 142,
   "metadata": {},
   "outputs": [
    {
     "name": "stdout",
     "output_type": "stream",
     "text": [
      "3\n",
      "3\n"
     ]
    }
   ],
   "source": [
    "class DisjointSetUnion:\n",
    "    def __init__(self, n) -> None:\n",
    "        self.p = [None] * n # Массив p хранит для каждой вершины её непосредственного предка.\n",
    "        self.rank = [0] * n # Массив rank используется для оптимизации по рангу.\n",
    "\n",
    "    def MakeSet(self, x):\n",
    "        self.p[x] = x\n",
    "        self.rank[x] = 0\n",
    "\n",
    "    def Find(self, x):\n",
    "        if self.p[x] != x:\n",
    "            # Используем сжатие путей для оптимизации поиска\n",
    "            self.p[x] = self.Find(self.p[x])\n",
    "        return self.p[x]\n",
    "\n",
    "    def Unite(self, x, y):\n",
    "        root_x = self.Find(x)\n",
    "        root_y = self.Find(y)\n",
    "\n",
    "        if root_x != root_y:\n",
    "            # Объединяем по рангу\n",
    "            if self.rank[root_x] < self.rank[root_y]:\n",
    "                self.p[root_x] = root_y\n",
    "            else:\n",
    "                self.p[root_y] = root_x\n",
    "                if self.rank[root_x] == self.rank[root_y]:\n",
    "                    self.rank[root_x] += 1\n",
    "# Создаем DSU для 10 элементов\n",
    "dsu = DisjointSetUnion(10)\n",
    "\n",
    "# Создаем новое дерево с элементом 3\n",
    "dsu.MakeSet(3)\n",
    "\n",
    "# Проверяем предка элемента 3\n",
    "print(dsu.p[3])  # Output: 3\n",
    "print(dsu.Find(3))"
   ]
  },
  {
   "cell_type": "markdown",
   "metadata": {},
   "source": [
    "### Ранги\n",
    "- Ранг в контексте DSU можно рассматривать как грубое приблежние высоты дерева, которое строится при объединении множеств. Идея рангов заключается в том, чтобы уменьшить высоту дерева, что позволяет ускорить операции поиска.\n",
    "1. Когда создается множество, вершина сама себе предок и её ранг равен 0. Это можно представить как одноэлементное дерево, где высота равна 0.\n",
    "2. Объединение по рангу(Unite): При объединении двух множеств мы стараемся присоединить более короткое дерево(множество с наим. рангом) к корню более выского дерева(множества с наиб. рангом). Это делается для того, чтобы после объединения высота дерева не увеличилась слишком сильно.\n",
    "    - Если ранги корней разные, то корень с наим. рангом становится потомком корня с наиб. рангом\n",
    "    - Если ранги одинаковы, то одно из деревьев становится потомком другого и его ранг увеличивается на 1\n",
    "### Сжатие путей.\n",
    "- Сжатие путей - техника оптимизации, используемая во время операции поиска, чтобы ускорить будущие запросы.\n",
    "1. Поиск(Find): Когда мы ищем корень элемента, мы идем вверх по дереву, начиная с этого элемента, пока не достигнем корня.\n",
    "2. Сжатие путей: В процессе поиска, мы изменяем ссылки всех промежуточных вершин на корень, таким образом \"сжимая\" путь от этих вершин до корня. То есть, допустим если у нас есть цепочка 1-2-3-4-5 и мы хотим сделать поиск корня от 5, то при повторном поиске все вершины на пути(5, 4, 3, 2) будут напрямую указывать на корень(1)"
   ]
  },
  {
   "cell_type": "code",
   "execution_count": 143,
   "metadata": {},
   "outputs": [
    {
     "name": "stdout",
     "output_type": "stream",
     "text": [
      "[2, 3]\n"
     ]
    }
   ],
   "source": [
    "#redundant connection\n",
    "edges = [[1,2],[1,3],[2,3]]\n",
    "\n",
    "parent = {v: -1 for v in range(1, len(edges) + 1)}\n",
    "\n",
    "def find(u):\n",
    "    if parent[u] != -1:\n",
    "        parent[u] = find(parent[u])\n",
    "        return parent[u]\n",
    "    else:\n",
    "        return u\n",
    "    \n",
    "def union(u, v):\n",
    "    parent_of_u = find(u)\n",
    "    parent_of_v = find(v)\n",
    "\n",
    "    if parent_of_u == parent_of_v:\n",
    "        return True\n",
    "    else:\n",
    "        parent[parent_of_u] = parent_of_v\n",
    "        return False\n",
    "redundant = None\n",
    "\n",
    "for u, v in edges:\n",
    "    if union(u, v):\n",
    "        redundant = [u, v]\n",
    "        print(redundant)"
   ]
  },
  {
   "cell_type": "markdown",
   "metadata": {},
   "source": [
    "#### Что такое компонента связности?\n",
    "- Это часть графа, где все вершины связаны между собой напрямую или через другие вершины. Если из одной вершины можно добраться до любой другой в этой части, значит это одна компонента<br>\n",
    "Если у нас есть граф с вершинами 1, 2, 3 и рёбрами между ними, а также вершинами 4 и 5, соединёнными только друг с другом, то у нас есть две компоненты связности:<br>\n",
    "Первая: вершины 1, 2, 3.<br>\n",
    "Вторая: вершины 4, 5.<br>\n",
    "\n",
    "#### Мост?\n",
    "- Это такое ребро, удаление которого увеличивает число компонент связности.\n",
    "\n",
    "<br>\n",
    "В нашей задаче я так понимаю, надо найти ребро, которое не является мостом\n",
    "\n",
    "- Как обнаруживать мосты и вычислять компоненты связности?\n",
    "- UnionFind?\n",
    "- Как обнаружить цикл?"
   ]
  },
  {
   "cell_type": "code",
   "execution_count": 144,
   "metadata": {},
   "outputs": [
    {
     "name": "stdout",
     "output_type": "stream",
     "text": [
      "[{1, 2, 3, 4}, {5, 6, 7}, {8, 9}]\n"
     ]
    }
   ],
   "source": [
    "# Компоненты связности\n",
    "edges =  [[1,2],[2,3],[3,4],[3,4],[5,6],[6,7],[8,9]]\n",
    "graph = defaultdict(list)\n",
    "\n",
    "for v1, v2 in edges:\n",
    "    graph[v1].append(v2)\n",
    "    graph[v2].append(v1)\n",
    "\n",
    "components = []\n",
    "for edge in edges:\n",
    "    q = deque([edge[0]])\n",
    "    marked = set()\n",
    "    \n",
    "    while q:\n",
    "        vertex = q.popleft()\n",
    "\n",
    "        if vertex in marked:\n",
    "            continue\n",
    "        \n",
    "        marked.add(vertex)\n",
    "\n",
    "        for nei in graph[vertex]:\n",
    "            if nei not in marked:\n",
    "                q.append(nei)\n",
    "    if len(marked) > 0 and all(vertex not in c for c in components):\n",
    "        components.append(marked)\n",
    "print(components)"
   ]
  },
  {
   "cell_type": "code",
   "execution_count": 145,
   "metadata": {},
   "outputs": [],
   "source": [
    "edges = [[1,2],[1,3],[2,3]]"
   ]
  },
  {
   "cell_type": "markdown",
   "metadata": {},
   "source": [
    "841. **RKeys and Rooms** - medium\n",
    "- https://leetcode.com/problems/keys-and-rooms/description/?envType=problem-list-v2&envId=mnaj3wi7\n",
    "- BFS"
   ]
  },
  {
   "cell_type": "code",
   "execution_count": 146,
   "metadata": {},
   "outputs": [
    {
     "name": "stdout",
     "output_type": "stream",
     "text": [
      "True\n"
     ]
    }
   ],
   "source": [
    "rooms = [[1],[2],[3],[]]\n",
    "\n",
    "graph = defaultdict(list)\n",
    "\n",
    "for i, keys in enumerate(rooms):\n",
    "    graph[i].extend(keys)\n",
    "\n",
    "unlocked = [False] * len(rooms)\n",
    "q = deque([0])\n",
    "\n",
    "marked = set()\n",
    "while q:\n",
    "    cur = q.popleft()\n",
    "\n",
    "    if cur in marked:\n",
    "        continue\n",
    "    marked.add(cur)\n",
    "\n",
    "    if unlocked[cur] == False:\n",
    "        unlocked[cur] = True\n",
    "    \n",
    "    for nei in graph[cur]:\n",
    "\n",
    "        if nei not in marked:\n",
    "            q.append(nei)\n",
    "            \n",
    "print(all(i == True for i in unlocked))"
   ]
  },
  {
   "cell_type": "code",
   "execution_count": 147,
   "metadata": {},
   "outputs": [
    {
     "name": "stdout",
     "output_type": "stream",
     "text": [
      "Solution Exists: Following are the assigned colors\n",
      "1 2 3 2\n"
     ]
    },
    {
     "data": {
      "text/plain": [
       "True"
      ]
     },
     "execution_count": 147,
     "metadata": {},
     "output_type": "execute_result"
    }
   ],
   "source": [
    "# Раскраска графа\n",
    "V = 4\n",
    "def print_solution(color):\n",
    "    print(\"Solution Exists: Following are the assigned colors\")\n",
    "    print(\" \".join(map(str, color)))\n",
    "def is_safe(v, graph, color, c):\n",
    "    for i in range(V):\n",
    "        if graph[v][i] and c == color[i]:\n",
    "            return False\n",
    "    return True\n",
    "\n",
    "def graph_coloring_util(graph, m, color, v):\n",
    "    if v == V:\n",
    "        return True\n",
    "    \n",
    "    for c in range(1, m + 1):\n",
    "        if is_safe(v, graph, color,c):\n",
    "            color[v] = c\n",
    "\n",
    "            if graph_coloring_util(graph, m, color, v + 1):\n",
    "                return True\n",
    "            \n",
    "            color[v] = 0\n",
    "    return False\n",
    "\n",
    "def graph_coloring(graph, m):\n",
    "    color = [0] * V\n",
    "\n",
    "    if not graph_coloring_util(graph, m, color, 0):\n",
    "        print(\"Solution does not exist\")\n",
    "        return False\n",
    "\n",
    "    # Print the solution\n",
    "    print_solution(color)\n",
    "    return True\n",
    "graph = [\n",
    "    [0, 1, 1, 1],\n",
    "    [1, 0, 1, 0],\n",
    "    [1, 1, 0, 1],\n",
    "    [1, 0, 1, 0],\n",
    "]\n",
    "\n",
    "m = 3\n",
    "\n",
    "# Function call\n",
    "graph_coloring(graph, m)"
   ]
  },
  {
   "cell_type": "markdown",
   "metadata": {},
   "source": [
    "### Еще 5 задач"
   ]
  },
  {
   "cell_type": "markdown",
   "metadata": {},
   "source": [
    "130. **Surrounded Regions** - medium\n",
    "- https://leetcode.com/problems/surrounded-regions/description/?envType=problem-list-v2&envId=mnaj3wi7\n",
    "- BFS, СЕТКА"
   ]
  },
  {
   "cell_type": "code",
   "execution_count": 148,
   "metadata": {},
   "outputs": [],
   "source": [
    "board = [[\"X\",\"X\",\"X\",\"X\"],[\"X\",\"O\",\"O\",\"X\"],[\"X\",\"X\",\"O\",\"X\"],[\"X\",\"O\",\"X\",\"X\"]]\n",
    "\n",
    "def bfs(i, j):\n",
    "    q = deque([(i,j)])\n",
    "    while q:\n",
    "        i, j = q.popleft()\n",
    "        if 0 <= i < len(board) and 0 <= j < len(board[0]) and board[i][j] == 'O':\n",
    "            board[i][j] = 'D'\n",
    "            q += [(i+1, j), (i - 1, j),(i, j + 1), (i, j - 1)]\n",
    "\n",
    "for i in range(len(board)):\n",
    "    for j in range(len(board[0])):\n",
    "        if board[i][j] == 'O' and (i in [0 , len(board) - 1] or j in [0, len(board[0])  - 1]):\n",
    "            bfs(i, j)\n",
    "            \n",
    "for i in range(len(board)):\n",
    "    for j in range(len(board[0])):\n",
    "        if board[i][j] == 'O':\n",
    "            board[i][j] = 'X'\n",
    "        if board[i][j] == 'D':\n",
    "            board[i][j] = 'O'\n"
   ]
  },
  {
   "cell_type": "markdown",
   "metadata": {},
   "source": [
    "200. **Number of Islands** - medium\n",
    "- https://leetcode.com/problems/number-of-islands/description/?envType=problem-list-v2&envId=mnaj3wi7\n",
    "- BFS, СЕТКА, Компоненты связности"
   ]
  },
  {
   "cell_type": "code",
   "execution_count": 149,
   "metadata": {},
   "outputs": [
    {
     "name": "stdout",
     "output_type": "stream",
     "text": [
      "1\n"
     ]
    }
   ],
   "source": [
    "tmp = 0\n",
    "grid = [[\"1\",\"1\",\"1\",\"1\",\"0\"],[\"1\",\"1\",\"0\",\"1\",\"0\"],[\"1\",\"1\",\"0\",\"0\",\"0\"],[\"0\",\"0\",\"0\",\"0\",\"0\"]]\n",
    "def bfs(i, j):\n",
    "    q = deque([(i, j)])\n",
    "    while q:\n",
    "        i, j = q.popleft()\n",
    "        if 0 <= i < len(grid) and 0 <= j < len(grid[0]) and grid[i][j] == '1':\n",
    "            grid[i][j] = '-1'\n",
    "            q += [(i+1, j), (i - 1, j),(i, j + 1), (i, j - 1)]\n",
    "    return 1 \n",
    "for i in range(len(grid)):\n",
    "    for j in range(len(grid[0])):\n",
    "        if grid[i][j] == '1':\n",
    "            tmp += bfs(i,j)\n",
    "print(tmp)\n"
   ]
  },
  {
   "cell_type": "markdown",
   "metadata": {},
   "source": [
    "547. **Number of Provinces** - medium\n",
    "- https://leetcode.com/problems/number-of-provinces/description/?envType=problem-list-v2&envId=mnaj3wi7\n",
    "- BFS, Компоненты связности"
   ]
  },
  {
   "cell_type": "code",
   "execution_count": 150,
   "metadata": {},
   "outputs": [
    {
     "data": {
      "text/plain": [
       "3"
      ]
     },
     "execution_count": 150,
     "metadata": {},
     "output_type": "execute_result"
    }
   ],
   "source": [
    "isConnected = [[1,0,0],[0,1,0],[0,0,1]]\n",
    "\n",
    "graph = defaultdict(list)\n",
    "\n",
    "for i in range(len(isConnected)):\n",
    "    for j in range(len(isConnected)):\n",
    "        if isConnected[i][j] == 1 and i != j:\n",
    "            graph[i].append(j)\n",
    "\n",
    "def bfs(v, visited):\n",
    "    q = deque([v])\n",
    "    component = set()\n",
    "    while q:\n",
    "        cur = q.popleft()\n",
    "        if cur not in visited:\n",
    "            visited.add(cur)\n",
    "            component.add(cur)\n",
    "            for nei in graph[cur]:\n",
    "                if nei not in visited:\n",
    "                    q.append(nei)\n",
    "    return component\n",
    "\n",
    "def find_connected_components(graph):\n",
    "    visited = set()\n",
    "    components = []\n",
    "    for node in range(len(isConnected)):\n",
    "        if node not in visited:\n",
    "            component = bfs(node, visited)\n",
    "            components.append(component)\n",
    "    return components\n",
    "\n",
    "connected_components = find_connected_components(graph)\n",
    "len(connected_components)"
   ]
  },
  {
   "cell_type": "markdown",
   "metadata": {},
   "source": [
    "695. **Max Area of Island** - medium\n",
    "- https://leetcode.com/problems/max-area-of-island/description/?envType=problem-list-v2&envId=mnaj3wi7\n",
    "- bfs, компоненты связности"
   ]
  },
  {
   "cell_type": "code",
   "execution_count": 151,
   "metadata": {},
   "outputs": [
    {
     "name": "stdout",
     "output_type": "stream",
     "text": [
      "6\n"
     ]
    }
   ],
   "source": [
    "grid = [[0,0,1,0,0,0,0,1,0,0,0,0,0],[0,0,0,0,0,0,0,1,1,1,0,0,0],\n",
    "        [0,1,1,0,1,0,0,0,0,0,0,0,0],[0,1,0,0,1,1,0,0,1,0,1,0,0],\n",
    "        [0,1,0,0,1,1,0,0,1,1,1,0,0],[0,0,0,0,0,0,0,0,0,0,1,0,0],\n",
    "        [0,0,0,0,0,0,0,1,1,1,0,0,0],[0,0,0,0,0,0,0,1,1,0,0,0,0]]\n",
    "def bfs(i, j):\n",
    "    q = deque([(i, j)]) \n",
    "    marked = 0\n",
    "    while q:\n",
    "        i, j = q.popleft()\n",
    "        if 0 <= i < len(grid) and 0 <= j < len(grid[0]) and grid[i][j] == 1:\n",
    "            marked += 1\n",
    "            grid[i][j] = -1\n",
    "\n",
    "            q += [(i+1, j), (i-1, j), (i, j+1), (i, j - 1)]\n",
    "    return marked\n",
    "ans = []\n",
    "for i in range(len(grid)):\n",
    "    for j in range(len(grid[0])):\n",
    "        if grid[i][j] == 1:\n",
    "            ans.append(bfs(i,j))\n",
    "print(max(ans) if len(ans) > 0 else 0)"
   ]
  },
  {
   "cell_type": "markdown",
   "metadata": {},
   "source": [
    "721. **Accounts Merge** - medium\n",
    "- https://leetcode.com/problems/accounts-merge/description/\n",
    "- bfs, компоненты связности, индексация"
   ]
  },
  {
   "cell_type": "code",
   "execution_count": 152,
   "metadata": {},
   "outputs": [
    {
     "name": "stdout",
     "output_type": "stream",
     "text": [
      "[['John', 'john00@mail.com', 'john_newyork@mail.com', 'johnsmith@mail.com'], ['Mary', 'mary@mail.com'], ['John', 'johnnybravo@mail.com']]\n"
     ]
    }
   ],
   "source": [
    "accounts = [[\"John\",\"johnsmith@mail.com\",\"john_newyork@mail.com\"],\n",
    "            [\"John\",\"johnsmith@mail.com\",\"john00@mail.com\"],\n",
    "            [\"Mary\",\"mary@mail.com\"],\n",
    "            [\"John\",\"johnnybravo@mail.com\"]\n",
    "            ]\n",
    "\n",
    "# Создание графа\n",
    "graph = defaultdict(list)\n",
    "visited_accounts = [False] * len(accounts)\n",
    "res = []\n",
    "\n",
    "for i, account in enumerate(accounts):\n",
    "    for j in range(1, len(account)):\n",
    "        email = account[j]\n",
    "        graph[email].append(i)\n",
    "\n",
    "def bfs(i, emails):\n",
    "    if visited_accounts[i]:\n",
    "        return\n",
    "    visited_accounts[i] = True\n",
    "    for j in range(1, len(accounts[i])):\n",
    "        email = accounts[i][j]\n",
    "        emails.add(email)\n",
    "        for nei in graph[email]:\n",
    "            bfs(nei, emails)\n",
    "\n",
    "for i, account in enumerate(accounts):\n",
    "    if visited_accounts[i]:\n",
    "        continue\n",
    "    name, emails = account[0], set()\n",
    "    bfs(i, emails)\n",
    "    res.append([name] + sorted(emails))\n",
    "print(res)"
   ]
  },
  {
   "cell_type": "markdown",
   "metadata": {},
   "source": [
    "### Заключение после 10 задач\n",
    "\n",
    "1. Во всех задач требовалось полное понимание dfs или bfs\n",
    "2. В большинстве задач надо было понимать, что такое компоненты связности и алгоритм их поиска\n",
    "3. Стоит также обратить внимание на индексацию, как способ решить задачу\n",
    "4. Задачи на матрицу-сетку, в них самое главное задать правильное условие, чтобы за сетку не уходить\n",
    "5. Union-find решает также большинство проблем, связанных с компонентами связности, но я еще не научился его применять"
   ]
  },
  {
   "cell_type": "markdown",
   "metadata": {},
   "source": [
    "399. **Evaluate Division** - medium\n",
    "- https://leetcode.com/problems/evaluate-division/description/?envType=problem-list-v2&envId=mnaj3wi7\n",
    "- идея, путь"
   ]
  },
  {
   "cell_type": "code",
   "execution_count": 153,
   "metadata": {},
   "outputs": [
    {
     "name": "stdout",
     "output_type": "stream",
     "text": [
      "[6.0, 0.5, -1.0, 1.0, -1.0]\n"
     ]
    }
   ],
   "source": [
    "equations = [[\"a\",\"b\"],[\"b\",\"c\"]]\n",
    "values = [2.0,3.0]\n",
    "queries = [[\"a\",\"c\"],[\"b\",\"a\"],[\"a\",\"e\"],[\"a\",\"a\"],[\"x\",\"x\"]]\n",
    "\n",
    "graph = defaultdict(dict)\n",
    "results = []\n",
    "for (x, y), val in zip(equations, values):\n",
    "    graph[x][y] = val\n",
    "    graph[y][x] = 1.0 / val\n",
    "\n",
    "for left, right in queries:\n",
    "    q = deque([(left, 1)])\n",
    "    visited = set()\n",
    "    res = -1.0\n",
    "    while q:\n",
    "        node, cost = q.popleft()\n",
    "        visited.add(node)\n",
    "        if right in graph[node]:\n",
    "            res = cost * graph[node][right]\n",
    "            break\n",
    "        q.extend([ (nei, cost * n_cost) for nei, n_cost in graph[node].items() if nei not in visited ])\n",
    "    results.append(res)\n",
    "print(results)"
   ]
  },
  {
   "cell_type": "markdown",
   "metadata": {},
   "source": [
    "743. **Network Delay Time** - medium\n",
    "- https://leetcode.com/problems/network-delay-time/description/?envType=problem-list-v2&envId=mnaj3wi7\n",
    "- Путь, Дейкстра"
   ]
  },
  {
   "cell_type": "code",
   "execution_count": 154,
   "metadata": {},
   "outputs": [
    {
     "name": "stdout",
     "output_type": "stream",
     "text": [
      "2\n"
     ]
    }
   ],
   "source": [
    "times = [[2,1,1],[2,3,1],[3,4,1]]\n",
    "k = 2\n",
    "n = 4\n",
    "\n",
    "graph = defaultdict(dict)\n",
    "\n",
    "for v1, v2, weight in times:\n",
    "    graph[v1][v2] = weight\n",
    "\n",
    "minHeap = [(0, k)]\n",
    "visit = set()\n",
    "t = 0\n",
    "\n",
    "while minHeap:\n",
    "    cost, v1 = heapq.heappop(minHeap)\n",
    "    if v1 in visit:\n",
    "        continue\n",
    "    visit.add(v1)\n",
    "    t = max(t, cost)\n",
    "\n",
    "    for v2, cost2 in graph[v1].items():\n",
    "        heapq.heappush(minHeap, (cost + cost2, v2))\n",
    "print(t if len(visit) == n else -1)"
   ]
  },
  {
   "cell_type": "markdown",
   "metadata": {},
   "source": [
    "785. **Is Graph Bipartite?** - medium\n",
    "- https://leetcode.com/problems/is-graph-bipartite/description/?envType=problem-list-v2&envId=mnaj3wi7\n",
    "- Раскраска"
   ]
  },
  {
   "cell_type": "markdown",
   "metadata": {},
   "source": [
    "Двудольный граф - граф, у которого не существует рёбер между вершинами одной и той же части графа."
   ]
  },
  {
   "cell_type": "code",
   "execution_count": 155,
   "metadata": {},
   "outputs": [
    {
     "data": {
      "text/plain": [
       "False"
      ]
     },
     "execution_count": 155,
     "metadata": {},
     "output_type": "execute_result"
    }
   ],
   "source": [
    "graph = [[1,2,3],[0,2],[0,1,3],[0,2]]\n",
    "\n",
    "\n",
    "def solution(graph):\n",
    "    visit = set()\n",
    "    two_colors = [set(), set()]\n",
    "    for i in range(len(graph)):\n",
    "        if i not in visit:\n",
    "            q = deque([(i, 0)])\n",
    "            while q:\n",
    "                node, color = q.popleft()\n",
    "                visit.add(node)\n",
    "                two_colors[color].add(node)\n",
    "\n",
    "                for nei in graph[node]:\n",
    "                    if nei in two_colors[color]:\n",
    "                        return False\n",
    "                    if nei not in visit:\n",
    "                        q.append((nei, 1 if color == 0 else 0))\n",
    "    return True\n",
    "solution(graph)"
   ]
  },
  {
   "cell_type": "markdown",
   "metadata": {},
   "source": [
    "### Мини-анализ после 3 задач\n",
    "\n",
    "1. Встретились задачи на Дейкстру, раскраску\n",
    "2. Дейкстру можно легко написать через minHeap\n",
    "3. Отмечать соседей можно через чередование индексов. Также хранить в структуре данных их.\n",
    "4. Самое сложное в задаче понять условие, что от тебя хотят. А уже решение не так сложно понять"
   ]
  },
  {
   "cell_type": "markdown",
   "metadata": {},
   "source": [
    "787. **Cheapest Flights Within K Stops** - medium\n",
    "- https://leetcode.com/problems/cheapest-flights-within-k-stops/description/?envType=problem-list-v2&envId=mnaj3wi7\n",
    "- Дейкстра, путь"
   ]
  },
  {
   "cell_type": "code",
   "execution_count": 156,
   "metadata": {},
   "outputs": [
    {
     "name": "stdout",
     "output_type": "stream",
     "text": [
      "700\n"
     ]
    }
   ],
   "source": [
    "import math\n",
    "n = 4\n",
    "flights = [[0,1,100],[1,2,100],[2,0,100],[1,3,600],[2,3,200]]\n",
    "src = 0\n",
    "dst = 3\n",
    "k = 1\n",
    "\n",
    "\n",
    "graph = defaultdict(dict)\n",
    "\n",
    "for from_, to, cost in flights:\n",
    "    graph[from_][to] = cost\n",
    "\n",
    "minHeap = [(src, 0, k + 1)]\n",
    "dist = [[math.inf] * (k + 2) for _ in range(n)]\n",
    "\n",
    "while minHeap:\n",
    "    v1, cost, stops = heapq.heappop(minHeap)\n",
    "\n",
    "    if v1 == dst:\n",
    "        print(cost)\n",
    "    if stops > 0:\n",
    "        for v2, cost2 in graph[v1].items():\n",
    "            new_cost = cost + cost2\n",
    "            if new_cost < dist[v2][stops - 1]:\n",
    "                dist[v2][stops - 1] = new_cost\n",
    "                heapq.heappush(minHeap, (v2, new_cost, stops - 1))\n"
   ]
  },
  {
   "cell_type": "markdown",
   "metadata": {},
   "source": [
    "797. **All Paths From Source to Target** - medium\n",
    "- https://leetcode.com/problems/all-paths-from-source-to-target/description/?envType=problem-list-v2&envId=mnaj3wi7\n",
    "- Backtracking, "
   ]
  },
  {
   "cell_type": "code",
   "execution_count": 157,
   "metadata": {},
   "outputs": [
    {
     "name": "stdout",
     "output_type": "stream",
     "text": [
      "[[0, 1, 3], [0, 2, 3]]\n"
     ]
    }
   ],
   "source": [
    "graph = [[1,2],[3],[3],[]]\n",
    "\n",
    "tmp_res = []\n",
    "res = []\n",
    "\n",
    "def find(node):\n",
    "    if node == len(graph) - 1:\n",
    "        res.append(tmp_res.copy())\n",
    "        return\n",
    "    for i in graph[node]:\n",
    "        tmp_res.append(i)\n",
    "        find(i)\n",
    "        tmp_res.pop()\n",
    "\n",
    "tmp_res.append(0)\n",
    "find(0)\n",
    "print(res)"
   ]
  },
  {
   "cell_type": "markdown",
   "metadata": {},
   "source": [
    "802. **Find Eventual Safe States** - medium\n",
    "- https://leetcode.com/problems/find-eventual-safe-states/description/?envType=problem-list-v2&envId=mnaj3wi7\n",
    "- Topological sort"
   ]
  },
  {
   "cell_type": "code",
   "execution_count": 158,
   "metadata": {},
   "outputs": [
    {
     "name": "stdout",
     "output_type": "stream",
     "text": [
      "[2, 4, 5, 6]\n"
     ]
    }
   ],
   "source": [
    "graph = [[1,2],[2,3],[5],[0],[5],[],[]]\n",
    "\n",
    "n = len(graph)\n",
    "indegree = [0] * n\n",
    "\n",
    "inverse_graph = defaultdict(list)\n",
    "\n",
    "for i in range(n):\n",
    "    for node in graph[i]:\n",
    "        inverse_graph[node].append(i)\n",
    "        indegree[i] += 1\n",
    "\n",
    "q = deque()\n",
    "\n",
    "for i in range(n):\n",
    "    if indegree[i] == 0:\n",
    "        q.append(i)\n",
    "\n",
    "safe = [False] * n\n",
    "\n",
    "while q:\n",
    "    node = q.popleft()\n",
    "    safe[node] = True\n",
    "    \n",
    "    for nei in inverse_graph[node]:\n",
    "        indegree[nei] -= 1\n",
    "        if indegree[nei] == 0:\n",
    "            q.append(nei)\n",
    "print([i for i in range(len(safe)) if safe[i] == True])"
   ]
  },
  {
   "cell_type": "markdown",
   "metadata": {},
   "source": [
    "851. **Loud and Rich** - medium\n",
    "- https://leetcode.com/problems/loud-and-rich/description/?envType=problem-list-v2&envId=mnaj3wi7\n",
    "- сложный bfs"
   ]
  },
  {
   "cell_type": "code",
   "execution_count": 159,
   "metadata": {},
   "outputs": [
    {
     "name": "stdout",
     "output_type": "stream",
     "text": [
      "[5, 5, 2, 5, 4, 5, 6, 7]\n"
     ]
    }
   ],
   "source": [
    "richer = [[1,0],[2,1],[3,1],[3,7],[4,3],[5,3],[6,3]]\n",
    "quiet = [3,2,5,4,6,1,7,0]\n",
    "\n",
    "n = len(quiet)\n",
    "graph = defaultdict(list)\n",
    "\n",
    "for v1, v2 in richer:\n",
    "    graph[v2].append(v1)\n",
    "answer = [None] * n\n",
    "\n",
    "def dfs(node):\n",
    "    if answer[node] is None:\n",
    "        answer[node] = node\n",
    "        for nei in graph[node]:\n",
    "            cand = dfs(nei)\n",
    "            if quiet[cand] < quiet[answer[node]]:\n",
    "                answer[node] = cand\n",
    "    return answer[node]\n",
    "print(list(map(dfs, range(n))))"
   ]
  },
  {
   "cell_type": "markdown",
   "metadata": {},
   "source": [
    "886. **Possible Bipartition** - medium\n",
    "- https://leetcode.com/problems/possible-bipartition/description/?envType=problem-list-v2&envId=mnaj3wi7\n",
    "- Раскраска"
   ]
  },
  {
   "cell_type": "code",
   "execution_count": 160,
   "metadata": {},
   "outputs": [
    {
     "name": "stdout",
     "output_type": "stream",
     "text": [
      "2 [0, 1, 0, 0, 0]\n",
      "3 [0, 1, 0, 0, 0]\n",
      "4 [0, 1, 0, 0, 0]\n"
     ]
    },
    {
     "data": {
      "text/plain": [
       "True"
      ]
     },
     "execution_count": 160,
     "metadata": {},
     "output_type": "execute_result"
    }
   ],
   "source": [
    "n = 4\n",
    "dislikes = [[1,2],[1,3],[2,4]]\n",
    "graph = defaultdict(list)\n",
    "\n",
    "for v1,v2 in dislikes:\n",
    "    graph[v1].append(v2)\n",
    "    graph[v2].append(v1)\n",
    "\n",
    "N = n\n",
    "\n",
    "def bfs():\n",
    "    colors = [0] * (N+1)\n",
    "\n",
    "    visited = set()\n",
    "    for vertex in range(1, N):\n",
    "\n",
    "        if vertex not in visited:\n",
    "            visited.add(vertex)\n",
    "            q = deque([vertex])\n",
    "            colors[vertex] = 1\n",
    "\n",
    "            while q:\n",
    "                cur = q.popleft()\n",
    "                visited.add(cur)\n",
    "                for nei in graph[cur]:\n",
    "                    if nei not in visited:\n",
    "                        print(nei, colors)\n",
    "                        colors[nei] = 1 - colors[cur]\n",
    "                        q.append(nei)\n",
    "                    if colors[nei] == colors[cur]:\n",
    "                        return False\n",
    "    return True\n",
    "bfs()"
   ]
  },
  {
   "cell_type": "markdown",
   "metadata": {},
   "source": [
    "947. **Most Stones Removed with Same Row or Column** - medium\n",
    "- https://leetcode.com/problems/most-stones-removed-with-same-row-or-column/description/?envType=problem-list-v2&envId=mnaj3wi7\n",
    "- Идея, сетка"
   ]
  },
  {
   "cell_type": "code",
   "execution_count": 161,
   "metadata": {},
   "outputs": [
    {
     "name": "stdout",
     "output_type": "stream",
     "text": [
      "5\n"
     ]
    }
   ],
   "source": [
    "stones = [[0,0],[0,1],[1,0],[1,2],[2,1],[2,2]]\n",
    "\n",
    "points = {(x, y) for x, y in stones}\n",
    "\n",
    "x_dic = defaultdict(list)\n",
    "y_dic = defaultdict(list)\n",
    "\n",
    "for x, y in points:\n",
    "    x_dic[x].append(y)\n",
    "    y_dic[y].append(x)\n",
    "\n",
    "def remove_point(a, b):\n",
    "    points.discard((a, b))\n",
    "    for y in x_dic[a]:\n",
    "        if (a, y) in points:\n",
    "            remove_point(a, y)\n",
    "    for x in y_dic[b]:\n",
    "        if (x, b) in points:\n",
    "            remove_point(x, b)\n",
    "\n",
    "cnt = 0\n",
    "\n",
    "for a, b in stones:\n",
    "    if (a, b) in points:\n",
    "        remove_point(a, b)\n",
    "        cnt += 1\n",
    "print(len(stones) - cnt)"
   ]
  },
  {
   "cell_type": "markdown",
   "metadata": {},
   "source": [
    "990. **Satisfiability of Equality Equations** - medium\n",
    "- https://leetcode.com/problems/satisfiability-of-equality-equations/description/?envType=problem-list-v2&envId=mnaj3wi7\n",
    "- Union find"
   ]
  },
  {
   "cell_type": "code",
   "execution_count": 162,
   "metadata": {},
   "outputs": [
    {
     "name": "stdout",
     "output_type": "stream",
     "text": [
      "x: a\n",
      "y: b\n",
      "{'b': 'a'}\n",
      "a a\n"
     ]
    },
    {
     "data": {
      "text/plain": [
       "False"
      ]
     },
     "execution_count": 162,
     "metadata": {},
     "output_type": "execute_result"
    }
   ],
   "source": [
    "equations = [\"a==b\",\"b!=a\"]\n",
    "def solution(equations):\n",
    "    parent = {}\n",
    "\n",
    "    def find(x):\n",
    "        if x not in parent:\n",
    "            return x\n",
    "        else:\n",
    "            return find(parent[x])\n",
    "\n",
    "    for i in equations:\n",
    "        if i[1] == '=':\n",
    "            a = i[0]\n",
    "            b = i[-1]\n",
    "            x = find(a)\n",
    "            print('x:', x)\n",
    "            y = find(b)\n",
    "            print('y:', y)\n",
    "            if x != y:\n",
    "                parent[y] = x\n",
    "    print(parent)\n",
    "    print(find('b'), find('a'))\n",
    "    for i in equations:\n",
    "        if i[1] == \"!\" and find(i[0]) == find(i[-1]):\n",
    "            return False\n",
    "    return True\n",
    "solution(equations=equations)"
   ]
  },
  {
   "cell_type": "markdown",
   "metadata": {},
   "source": [
    "1042. **Flower Planting With No Adjacent** - medium\n",
    "- https://leetcode.com/problems/flower-planting-with-no-adjacent/description/?envType=problem-list-v2&envId=mnaj3wi7\n",
    "- Раскраска"
   ]
  },
  {
   "cell_type": "code",
   "execution_count": 163,
   "metadata": {},
   "outputs": [],
   "source": [
    "n = 3\n",
    "paths = [[1,2],[2,3],[3,1]]\n",
    "\n",
    "garden = defaultdict(list)\n",
    "types = [0] * n\n",
    "for v1, v2 in paths:\n",
    "    garden[v1].append(v2)\n",
    "    garden[v2].append(v1)\n",
    "\n",
    "for i in range(1, n + 1):\n",
    "    colors = set([1,2,3,4])\n",
    "    for nei in garden[i]:\n",
    "        if types[nei - 1] in colors:\n",
    "            colors.remove(types[nei - 1])\n",
    "    types[i - 1] = colors.pop()\n"
   ]
  },
  {
   "cell_type": "markdown",
   "metadata": {},
   "source": [
    "### Еще один анализ\n",
    "\n",
    "1. Очень много задачек на понимание раскраски графа.\n",
    "2. Union-find также стоит понять, не так оно и сложно\n",
    "3. Многие проблемы решаются при поиске компонент связности. Сложность в том, чтобы понять как построить граф и что от тебя хотят.\n",
    "4. Задачи сложны тем, что хуй пойми что от тебя хотят"
   ]
  },
  {
   "cell_type": "markdown",
   "metadata": {},
   "source": [
    "1129. **Shortest Path with Alternating Colors** - medium\n",
    "- https://leetcode.com/problems/shortest-path-with-alternating-colors/description/?envType=problem-list-v2&envId=mnaj3wi7\n",
    "- Раскраска, Путь"
   ]
  },
  {
   "cell_type": "code",
   "execution_count": 164,
   "metadata": {},
   "outputs": [
    {
     "name": "stdout",
     "output_type": "stream",
     "text": [
      "[0, 1, -1]\n"
     ]
    }
   ],
   "source": [
    "n = 3\n",
    "redEdges = [[0,1]]\n",
    "blueEdges =  [[2,1]]\n",
    "\n",
    "graph_red = defaultdict(list)\n",
    "graph_blue = defaultdict(list)\n",
    "\n",
    "for v1, v2 in redEdges:\n",
    "    graph_red[v1].append(v2)\n",
    "for v1, v2 in blueEdges:\n",
    "    graph_blue[v1].append(v2)\n",
    "\n",
    "answer = [-1 for _ in range(n)]\n",
    "\n",
    "q = deque([(0, 0, None)]) # node, length, color\n",
    "visit = set()\n",
    "while q:\n",
    "    node, length, color = q.popleft()\n",
    "\n",
    "    if answer[node] == -1:\n",
    "        answer[node] = length\n",
    "    \n",
    "    if color != 'RED':\n",
    "        for nei in graph_red[node]:\n",
    "            if (nei, 'RED') not in visit:\n",
    "                visit.add((nei, 'RED'))\n",
    "                q.append((nei, length + 1, 'RED'))\n",
    "    if color != 'BLUE':\n",
    "        for nei in graph_blue[node]:\n",
    "            if (nei, 'BLUE') not in visit:\n",
    "                visit.add((nei, 'BLUE'))\n",
    "                q.append((nei, length + 1, 'BLUE'))\n",
    "print(answer)"
   ]
  },
  {
   "cell_type": "markdown",
   "metadata": {},
   "source": [
    "1524. **Path with Maximum Probability** - medium\n",
    "- https://leetcode.com/problems/path-with-maximum-probability/description/?envType=problem-list-v2&envId=mnaj3wi7  \n",
    "- Дейкстра, идея"
   ]
  },
  {
   "cell_type": "code",
   "execution_count": 165,
   "metadata": {},
   "outputs": [
    {
     "data": {
      "text/plain": [
       "0.25"
      ]
     },
     "execution_count": 165,
     "metadata": {},
     "output_type": "execute_result"
    }
   ],
   "source": [
    "n = 3\n",
    "edges = [[0,1],[1,2],[0,2]]\n",
    "succProb = [0.5,0.5,0.2]\n",
    "start_node = 0\n",
    "end_node = 2\n",
    "\n",
    "graph = defaultdict(list)\n",
    "\n",
    "for i in range(len(edges)):\n",
    "    src, dst = edges[i]\n",
    "    graph[src].append([dst, succProb[i]])\n",
    "    graph[dst].append([src, succProb[i]])\n",
    "visit = set()\n",
    "\n",
    "def sol():\n",
    "    pq = [(-1, start_node)]\n",
    "    while pq:\n",
    "        prob, cur = heapq.heappop(pq)\n",
    "        visit.add(cur)\n",
    "        if cur == end_node:\n",
    "            return prob * -1\n",
    "        for nei, prob2 in graph[cur]:\n",
    "            if nei not in visit:\n",
    "                heapq.heappush(pq, (prob * prob2, nei))\n",
    "    return 0\n",
    "sol()\n",
    "    "
   ]
  },
  {
   "cell_type": "markdown",
   "metadata": {},
   "source": [
    "1319. **Number of Operations to Make Network Connected** - medium\n",
    "- https://leetcode.com/problems/number-of-operations-to-make-network-connected/description/?envType=problem-list-v2&envId=mnaj3wi7\n",
    "- Union-find, избыточные связи, компоненты связности"
   ]
  },
  {
   "cell_type": "code",
   "execution_count": 166,
   "metadata": {},
   "outputs": [
    {
     "name": "stdout",
     "output_type": "stream",
     "text": [
      "[0, 1, 2, 3]\n",
      "1\n"
     ]
    }
   ],
   "source": [
    "n = 4\n",
    "connections = [[0, 1], [0, 2], [1, 2]]\n",
    "\n",
    "parent = list(range(n))\n",
    "print(parent)\n",
    "count = n # отслеживает количество независимых компонент в структуре данных\n",
    "redundant = 0 # отслеживает кол-во избыточных связей.\n",
    "\n",
    "def find(x):\n",
    "    if x != parent[x]:\n",
    "        parent[x] = find(parent[x])\n",
    "    return parent[x]\n",
    "\n",
    "def union(x, y):\n",
    "    global count\n",
    "    global redundant\n",
    "\n",
    "    rootx = find(x)\n",
    "    rooty = find(y)\n",
    "\n",
    "    if rootx != rooty:\n",
    "        parent[rootx] = rooty\n",
    "        count -= 1\n",
    "    else:\n",
    "        redundant += 1\n",
    "\n",
    "for x, y in connections:\n",
    "    union(x, y)\n",
    "if redundant >= count - 1:\n",
    "    print(count - 1)\n",
    "else:\n",
    "    print(-1)\n"
   ]
  },
  {
   "cell_type": "markdown",
   "metadata": {},
   "source": [
    "1334. **Find the City With the Smallest Number of Neighbors at a Threshold Distance** - medium\n",
    "- https://leetcode.com/problems/find-the-city-with-the-smallest-number-of-neighbors-at-a-threshold-distance/description/?envType=problem-list-v2&envId=mnaj3wi7\n",
    "- Дейкстра, сортировка(key = lambda x), ограничение на расстояние"
   ]
  },
  {
   "cell_type": "code",
   "execution_count": 167,
   "metadata": {},
   "outputs": [
    {
     "name": "stdout",
     "output_type": "stream",
     "text": [
      "3\n"
     ]
    }
   ],
   "source": [
    "n = 4\n",
    "edges = [[0,1,3],[1,2,1],[1,3,4],[2,3,1]]\n",
    "distanceThreshold = 4\n",
    "\n",
    "graph = defaultdict(dict)\n",
    "\n",
    "for v1, v2, w in edges:\n",
    "    graph[v1][v2] = w\n",
    "    graph[v2][v1] = w\n",
    "\n",
    "def sol(start):\n",
    "    pq = [(0, start)]\n",
    "    visit = set()\n",
    "    while pq:\n",
    "        cost, v = heapq.heappop(pq)\n",
    "        if v in visit:\n",
    "            continue\n",
    "        visit.add(v)\n",
    "        for nei, cost2 in graph[v].items():\n",
    "            if nei not in visit and (cost + cost2) <= distanceThreshold:\n",
    "                heapq.heappush(pq, (cost + cost2, nei))\n",
    "    visit.remove(start)\n",
    "    return visit\n",
    "ans = {}\n",
    "for start in range(n):\n",
    "    ans[start] = len(sol(start))\n",
    "print(min(ans, key = lambda x: (ans[x], -x)))\n",
    "                "
   ]
  },
  {
   "cell_type": "markdown",
   "metadata": {},
   "source": [
    "1466. **Reorder Routes to Make All Paths Lead to the City Zero** - medium\n",
    "- https://leetcode.com/problems/reorder-routes-to-make-all-paths-lead-to-the-city-zero/description/?envType=problem-list-v2&envId=mnaj3wi7\n",
    "- идея, бфс"
   ]
  },
  {
   "cell_type": "code",
   "execution_count": 168,
   "metadata": {},
   "outputs": [
    {
     "name": "stdout",
     "output_type": "stream",
     "text": [
      "3\n"
     ]
    }
   ],
   "source": [
    "n = 6\n",
    "connections = [[0,1],[1,3],[2,3],[4,0],[4,5]]\n",
    "direct_graph = defaultdict(list)\n",
    "graph = defaultdict(list)\n",
    "for v1,v2 in connections:\n",
    "    graph[v1].append(v2)\n",
    "    graph[v2].append(v1)\n",
    "\n",
    "    direct_graph[v1].append(v2)\n",
    "new_graph = defaultdict(list)\n",
    "\n",
    "\n",
    "q = deque([0])\n",
    "visit = set()\n",
    "count = 0\n",
    "while q:\n",
    "    cur = q.popleft()\n",
    "    visit.add(cur)\n",
    "    for nei in graph[cur]:\n",
    "        if nei not in visit:\n",
    "            new_graph[nei].append(cur)\n",
    "            if cur in direct_graph[nei]:\n",
    "                count += 1\n",
    "            q.append(nei)\n",
    "print(len(connections) - count)"
   ]
  },
  {
   "cell_type": "markdown",
   "metadata": {},
   "source": [
    "1577. **Minimum Number of Vertices to Reach All Nodes** - medium\n",
    "- https://leetcode.com/problems/minimum-number-of-vertices-to-reach-all-nodes/description/?envType=problem-list-v2&envId=mnaj3wi7\n",
    "- идея, topological sort, нестандартный dfs"
   ]
  },
  {
   "cell_type": "code",
   "execution_count": 169,
   "metadata": {},
   "outputs": [
    {
     "name": "stdout",
     "output_type": "stream",
     "text": [
      "[0, 3]\n",
      "[0, 3]\n"
     ]
    }
   ],
   "source": [
    "n = 6\n",
    "edges = [[0,1],[0,2],[2,5],[3,4],[4,2]]\n",
    "graph = defaultdict(list)\n",
    "for v1, v2 in edges:\n",
    "    graph[v1].append(v2)\n",
    "reachable = set()\n",
    "all_nodes = set()\n",
    "\n",
    "def dfs(vertex, first = False):\n",
    "    if vertex in reachable:\n",
    "        return\n",
    "    if not first:\n",
    "        reachable.add(vertex)\n",
    "        first = False\n",
    "    for nei in graph[vertex]:\n",
    "        dfs(nei)\n",
    "for i in range(n):\n",
    "    all_nodes.add(i)\n",
    "    dfs(i, True)\n",
    "print(list(all_nodes - reachable))\n",
    "\n",
    "indegree = [0] * n\n",
    "for v1, v2 in edges:\n",
    "    indegree[v2] += 1\n",
    "ans = []\n",
    "for i in range(n):\n",
    "    if indegree[i] == 0:\n",
    "        ans.append(i)\n",
    "print(ans)"
   ]
  },
  {
   "cell_type": "markdown",
   "metadata": {},
   "source": [
    "1584. **Min Cost to Connect All Points** - medium\n",
    "- https://leetcode.com/problems/min-cost-to-connect-all-points/description/?envType=problem-list-v2&envId=mnaj3wi7\n",
    "- Алгоритм prima, kruskal"
   ]
  },
  {
   "cell_type": "code",
   "execution_count": 170,
   "metadata": {},
   "outputs": [],
   "source": [
    "points = [[0,0],[2,2],[3,10],[5,2],[7,0]]\n"
   ]
  },
  {
   "cell_type": "markdown",
   "metadata": {},
   "source": [
    "1615. **Maximal Network Rank** - medium\n",
    "- https://leetcode.com/problems/maximal-network-rank/description/?envType=problem-list-v2&envId=mnaj3wi7"
   ]
  },
  {
   "cell_type": "code",
   "execution_count": 171,
   "metadata": {},
   "outputs": [],
   "source": [
    "n = 4\n",
    "roads = [[0,1],[0,3],[1,2],[1,3]]\n",
    "\n"
   ]
  },
  {
   "cell_type": "markdown",
   "metadata": {},
   "source": [
    "210. **Course Schedule II** - medium\n",
    "- https://leetcode.com/problems/course-schedule-ii/description/?envType=problem-list-v2&envId=mnaj3wi7\n",
    "- Topological sort"
   ]
  },
  {
   "cell_type": "code",
   "execution_count": 172,
   "metadata": {},
   "outputs": [
    {
     "name": "stdout",
     "output_type": "stream",
     "text": [
      "[0, 1, 2, 3]\n"
     ]
    }
   ],
   "source": [
    "numCourses = 4\n",
    "prerequisites = [[1,0],[2,0],[3,1],[3,2]]\n",
    "\n",
    "indegree = [0] * numCourses\n",
    "graph = defaultdict(list)\n",
    "for v1, v2 in prerequisites:\n",
    "    indegree[v1] += 1\n",
    "    graph[v2].append(v1)\n",
    "\n",
    "q = deque([i for i in range(numCourses) if indegree[i] == 0])\n",
    "order = []\n",
    "while q:\n",
    "    cur = q.popleft()\n",
    "    order.append(cur)\n",
    "    for nei in graph[cur]:\n",
    "        indegree[nei] -= 1\n",
    "        if indegree[nei] == 0:\n",
    "            q.append(nei)\n",
    "if len(order) < numCourses:\n",
    "    print([])\n",
    "else:\n",
    "    print(order)"
   ]
  },
  {
   "cell_type": "markdown",
   "metadata": {},
   "source": [
    "630. **Course Schedule III** - medium\n",
    "- https://leetcode.com/problems/course-schedule-ii/description/?envType=problem-list-v2&envId=mnaj3wi7\n",
    "- Heap, расписание и оптимизация, которые требует максимазации или минимазации определенного критерия при наличии ограничений"
   ]
  },
  {
   "cell_type": "markdown",
   "metadata": {},
   "source": [
    "#### Примеры аналогичных задач:\n",
    "- Проблема рюкзака (Knapsack problem) — выбор подмножества предметов с определенными весами и стоимостями для максимизации общей стоимости при ограничении на вес.\n",
    "- Интервальное планирование (Interval scheduling) — выбор максимального числа неперекрывающихся интервалов.\n",
    "- Задачи на распределение ресурсов — оптимизация использования ограниченных ресурсов (например, времени, процессорного времени и т.д.) для выполнения задач."
   ]
  },
  {
   "cell_type": "code",
   "execution_count": 173,
   "metadata": {},
   "outputs": [
    {
     "name": "stdout",
     "output_type": "stream",
     "text": [
      "[[100, 200], [1000, 1250], [200, 1300], [2000, 3200]]\n",
      "3\n"
     ]
    }
   ],
   "source": [
    "courses = [[100,200],[200,1300],[1000,1250],[2000,3200]]\n",
    "\n",
    "courses.sort(key = lambda x: x[1])\n",
    "print(courses)\n",
    "A, curr = [], 0\n",
    "for dur, end in courses:\n",
    "    heapq.heappush(A, -dur)\n",
    "    curr += dur\n",
    "    if curr > end: curr += heapq.heappop(A)\n",
    "print(len(A))"
   ]
  },
  {
   "cell_type": "markdown",
   "metadata": {},
   "source": [
    "1462. **Course Schedule IV** - medium\n",
    "- https://leetcode.com/problems/course-schedule-iv/description/?envType=problem-list-v2&envId=mnaj3wi7\n",
    "- Topological sort, доп. структура которая хранит соседей"
   ]
  },
  {
   "cell_type": "code",
   "execution_count": 174,
   "metadata": {},
   "outputs": [
    {
     "name": "stdout",
     "output_type": "stream",
     "text": [
      "[True, True]\n"
     ]
    }
   ],
   "source": [
    "numCourses = 3\n",
    "prerequisites = [[1,2],[1,0],[2,0]]\n",
    "queries = [[1,0],[1,2]]\n",
    "\n",
    "indegree = [0] * numCourses\n",
    "\n",
    "graph = defaultdict(list)\n",
    "\n",
    "for v1, v2 in prerequisites:\n",
    "    indegree[v2] += 1\n",
    "    graph[v1].append(v2)\n",
    "q = deque([ i for i in range(numCourses) if indegree[i] == 0])\n",
    "pre_lookup = defaultdict(set)\n",
    "while q:\n",
    "    cur = q.popleft()\n",
    "    for nei in graph[cur]:\n",
    "        pre_lookup[nei].add(cur)\n",
    "        pre_lookup[nei].update(pre_lookup[cur])\n",
    "\n",
    "        indegree[nei] -= 1\n",
    "        if indegree[nei] == 0:\n",
    "            q.append(nei)\n",
    "res = [True if q[0] in pre_lookup[q[1]] else False for q in queries]\n",
    "print(res)\n"
   ]
  },
  {
   "cell_type": "markdown",
   "metadata": {},
   "source": [
    "### Вот и 30 задач прошли незаметно"
   ]
  },
  {
   "cell_type": "markdown",
   "metadata": {},
   "source": [
    "## Что дальше?\n",
    "- Теперь хочу ознакомиться с теорий:\n",
    "    1. Топологическая сортировка\n",
    "    2. Алгоритм Дейкстры\n",
    "    3. Раскраски\n",
    "    4. Union-find\n",
    "    5. Поиск компонент сильной связности"
   ]
  },
  {
   "cell_type": "markdown",
   "metadata": {},
   "source": [
    "#### Топологическа сортировка\n",
    "- возможна только для ациклического ориентировного графа, это упорядочивание вершин от вершины, в которого не входит ни одна другая вершина. То есть, каждое ребро в графе идет от вершины с меньшим числом вхождений до вершины с самыми наибольшим числом вхождений.\n",
    "- Алгоритм обычно используется, когда в задаче идет выполнение чего-то в определенном порядке. "
   ]
  },
  {
   "cell_type": "code",
   "execution_count": null,
   "metadata": {},
   "outputs": [],
   "source": []
  }
 ],
 "metadata": {
  "kernelspec": {
   "display_name": "myvenv",
   "language": "python",
   "name": "python3"
  },
  "language_info": {
   "codemirror_mode": {
    "name": "ipython",
    "version": 3
   },
   "file_extension": ".py",
   "mimetype": "text/x-python",
   "name": "python",
   "nbconvert_exporter": "python",
   "pygments_lexer": "ipython3",
   "version": "3.12.2"
  }
 },
 "nbformat": 4,
 "nbformat_minor": 2
}
