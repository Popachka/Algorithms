{
 "cells": [
  {
   "cell_type": "markdown",
   "metadata": {},
   "source": [
    "<center><h1>Heap</center></h2>\n",
    "\n",
    "Куча - как правило это очередь с приоритетом. Свойство этой структуры данных в том, что она всегда выдает наимеьший элемент(min heap).\n",
    "\n",
    "При добавлении или удалении элемента структура данных сохраняется. heapq[0] также возвращает наим. элемент.\n",
    "\n",
    "Временная сложность - О(log n)\n",
    "\n",
    "В целом, кучи могут быть двух типов:\n",
    "\n",
    "Max-Heap: ключ, находящийся в корневом узле, должен быть наибольшим среди ключей, находящихся во всех его дочерних узлах. Это же свойство должно быть рекурсивно истинным для всех поддеревьев этого дерева.\n",
    "\n",
    "Min-Heap: ключ, находящийся в корневом узле, должен быть наименьшим среди ключей, присутствующих во всех его дочерних узлах. Это же свойство должно быть рекурсивно истинным для всех поддеревьев этого дерева.\n",
    "\n",
    "![alt text](https://img3.teletype.in/files/2f/12/2f12f989-69c1-4652-9e69-00fd12ec53e4.png)"
   ]
  },
  {
   "cell_type": "code",
   "execution_count": 9,
   "metadata": {},
   "outputs": [
    {
     "name": "stdout",
     "output_type": "stream",
     "text": [
      "Куча: [1, 3, 9, 7, 5]\n",
      "Изменённая куча: [1, 3, 4, 7, 5, 9]\n",
      "Наименьший элемент - 1\n",
      "Изменённая куча: [4, 5, 5, 7, 9]\n",
      "Изменённая куча: [5, 5, 6, 7, 9]\n",
      "[9, 7, 6]\n",
      "[5, 5, 6]\n"
     ]
    }
   ],
   "source": [
    "import heapq\n",
    "\n",
    "li = [5, 7, 9, 1, 3]\n",
    "\n",
    "heapq.heapify(li)\n",
    "\n",
    "print(\"Куча: \",end=\"\")\n",
    "print(list(li))\n",
    "\n",
    "heapq.heappush(li, 4)\n",
    "\n",
    "print(\"Изменённая куча: \",end=\"\")\n",
    "print(list(li))\n",
    "\n",
    "# Изменённая куча: [1, 3, 4, 7, 5, 9]\n",
    "# получаем наименьший элемент\n",
    "print(\"Наименьший элемент - \",end=\"\")\n",
    "print(heapq.heappop(li))\n",
    "\n",
    "heapq.heappushpop(li, 5) # сначала push потом pop\n",
    "print(\"Изменённая куча: \",end=\"\")\n",
    "print(list(li))\n",
    "\n",
    "heapq.heapreplace(li, 6) # сначала pop потом push\n",
    "print(\"Изменённая куча: \",end=\"\")\n",
    "print(list(li))\n",
    "\n",
    "print(heapq.nlargest(3, li))\n",
    "print(heapq.nsmallest(3, li))"
   ]
  },
  {
   "cell_type": "code",
   "execution_count": 11,
   "metadata": {},
   "outputs": [],
   "source": [
    "class MaxHeap:\n",
    "    def __init__(self):\n",
    "        self.heap = []\n",
    "    def puhs(self, val):\n",
    "        heapq.heappush(self.heap, -val)\n",
    "    def pop(self):\n",
    "        return -heapq.heappop(self.heap)\n",
    "    def peek(self):\n",
    "        return -self.heap[0]"
   ]
  },
  {
   "cell_type": "code",
   "execution_count": 10,
   "metadata": {},
   "outputs": [],
   "source": [
    "class CustomElem:\n",
    "    def __init__(self, obj, comparator):\n",
    "        self.obj = obj\n",
    "        self.comparator = comparator\n",
    "    def __lt__(self, other):\n",
    "        return self.comparator(self.obj, other.obj)\n",
    "    \n",
    "def custom_heappush(heap, obj, comparator = lambda x, y: x < y):\n",
    "    heapq.heappush(heap, CustomElem(obj, comparator))\n",
    "\n",
    "def custom_heappop(heap):\n",
    "    return heapq.heappop(heap).obj"
   ]
  }
 ],
 "metadata": {
  "kernelspec": {
   "display_name": "myvenv",
   "language": "python",
   "name": "python3"
  },
  "language_info": {
   "codemirror_mode": {
    "name": "ipython",
    "version": 3
   },
   "file_extension": ".py",
   "mimetype": "text/x-python",
   "name": "python",
   "nbconvert_exporter": "python",
   "pygments_lexer": "ipython3",
   "version": "3.12.2"
  }
 },
 "nbformat": 4,
 "nbformat_minor": 2
}
