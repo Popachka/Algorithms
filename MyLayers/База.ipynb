{
 "cells": [
  {
   "cell_type": "markdown",
   "metadata": {},
   "source": [
    "задача коммивояжера; <br>\n",
    "задача минимальной раскраски графа;<br>\n",
    "задача разбиения графа на подграфы;<br>\n",
    "задача выделения максимальной клики;<br>"
   ]
  },
  {
   "cell_type": "code",
   "execution_count": null,
   "metadata": {},
   "outputs": [],
   "source": []
  }
 ],
 "metadata": {
  "language_info": {
   "name": "python"
  }
 },
 "nbformat": 4,
 "nbformat_minor": 2
}
